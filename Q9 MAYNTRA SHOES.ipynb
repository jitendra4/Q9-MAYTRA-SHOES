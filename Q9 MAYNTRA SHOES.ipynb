{
 "cells": [
  {
   "cell_type": "code",
   "execution_count": 1,
   "metadata": {},
   "outputs": [
    {
     "name": "stdout",
     "output_type": "stream",
     "text": [
      "Requirement already satisfied: selenium in d:\\new folder\\lib\\site-packages (3.141.0)\n",
      "Requirement already satisfied: urllib3 in d:\\new folder\\lib\\site-packages (from selenium) (1.25.11)\n"
     ]
    }
   ],
   "source": [
    "!pip install selenium"
   ]
  },
  {
   "cell_type": "code",
   "execution_count": 2,
   "metadata": {},
   "outputs": [],
   "source": [
    "#LET REQRURIED LALARARIES\n",
    "import selenium\n",
    "import pandas as pd\n",
    "from selenium import webdriver"
   ]
  },
  {
   "cell_type": "code",
   "execution_count": 3,
   "metadata": {},
   "outputs": [],
   "source": [
    "# go to link= https://chromedriver.chromium.org/downloads"
   ]
  },
  {
   "cell_type": "code",
   "execution_count": 4,
   "metadata": {},
   "outputs": [],
   "source": [
    "# lets frist connect to the web drivers\n",
    "driver= webdriver.Chrome(r\"C:\\Users\\G\\Downloads\\chromedriver_win32\\chromedriver.exe\")"
   ]
  },
  {
   "cell_type": "code",
   "execution_count": 5,
   "metadata": {},
   "outputs": [],
   "source": [
    "# spectfying the URL of the webpage to be scraped\n",
    "url= (\"https://www.myntra.com/men-casual-shoes?f=Color%3ABlack_36454f&plaEnabled=false&rf=Price%3A6012.0_11675.0_6012.0%20TO%2011675.0\")"
   ]
  },
  {
   "cell_type": "code",
   "execution_count": 6,
   "metadata": {},
   "outputs": [],
   "source": [
    "# let open the webpage through our web drivers\n",
    "driver.get(url)"
   ]
  },
  {
   "cell_type": "code",
   "execution_count": 7,
   "metadata": {},
   "outputs": [],
   "source": [
    "brand_name=[]\n",
    "production_description=[]\n",
    "price_brand=[]"
   ]
  },
  {
   "cell_type": "code",
   "execution_count": 8,
   "metadata": {},
   "outputs": [
    {
     "data": {
      "text/plain": [
       "[<selenium.webdriver.remote.webelement.WebElement (session=\"19c02f021c6ff3ce2b7b5e090bd0a780\", element=\"d389783a-0a06-4ed0-acb8-164329d1bb30\")>,\n",
       " <selenium.webdriver.remote.webelement.WebElement (session=\"19c02f021c6ff3ce2b7b5e090bd0a780\", element=\"f306a492-d145-45d9-a4ff-27fd84d26cc9\")>,\n",
       " <selenium.webdriver.remote.webelement.WebElement (session=\"19c02f021c6ff3ce2b7b5e090bd0a780\", element=\"f62447a6-7a89-46fe-a707-5f349fa88995\")>,\n",
       " <selenium.webdriver.remote.webelement.WebElement (session=\"19c02f021c6ff3ce2b7b5e090bd0a780\", element=\"1bf34e63-ff56-4c58-a40c-878310d9d673\")>]"
      ]
     },
     "execution_count": 8,
     "metadata": {},
     "output_type": "execute_result"
    }
   ],
   "source": [
    "# let extract all the tags having the company name\n",
    "brand_tag= driver.find_elements_by_xpath(\"//h3[@class='product-brand']\")\n",
    "brand_tag[0:4]"
   ]
  },
  {
   "cell_type": "code",
   "execution_count": 9,
   "metadata": {},
   "outputs": [
    {
     "data": {
      "text/plain": [
       "['Nike', 'Nike', 'Nike', 'Nike', 'Geox', 'Geox']"
      ]
     },
     "execution_count": 9,
     "metadata": {},
     "output_type": "execute_result"
    }
   ],
   "source": [
    "#let extract all tags having brand -name\n",
    "for i in brand_tag:\n",
    "    brand=i.text\n",
    "    brand_name.append(brand)\n",
    "brand_name[0:6]"
   ]
  },
  {
   "cell_type": "code",
   "execution_count": 10,
   "metadata": {},
   "outputs": [
    {
     "data": {
      "text/plain": [
       "[<selenium.webdriver.remote.webelement.WebElement (session=\"19c02f021c6ff3ce2b7b5e090bd0a780\", element=\"ab646ed5-c959-4c1b-b12a-84e6a344b135\")>,\n",
       " <selenium.webdriver.remote.webelement.WebElement (session=\"19c02f021c6ff3ce2b7b5e090bd0a780\", element=\"a03f8a76-72a4-47c8-a3c8-4574ba728357\")>,\n",
       " <selenium.webdriver.remote.webelement.WebElement (session=\"19c02f021c6ff3ce2b7b5e090bd0a780\", element=\"be5e7381-9154-4645-8527-2e3d794492f8\")>,\n",
       " <selenium.webdriver.remote.webelement.WebElement (session=\"19c02f021c6ff3ce2b7b5e090bd0a780\", element=\"ce640bcd-2605-4c02-83f8-74ef0eac3fc3\")>]"
      ]
     },
     "execution_count": 10,
     "metadata": {},
     "output_type": "execute_result"
    }
   ],
   "source": [
    "# let extract all the tags having the production-description\n",
    "production_tag= driver.find_elements_by_xpath(\"//h4[@class='product-product']\")\n",
    "production_tag[0:4]"
   ]
  },
  {
   "cell_type": "code",
   "execution_count": 11,
   "metadata": {},
   "outputs": [
    {
     "data": {
      "text/plain": [
       "['Men Solid SKYVE MAX Sneakers',\n",
       " 'Men CHALLENGER OG Sneakers',\n",
       " 'Men JORDAN DELTA Sneakers',\n",
       " 'Men AIR MAX 90 Sneakers',\n",
       " 'Leather Mid-Top Chelsea Boots',\n",
       " 'Men Solid Leather Sneakers']"
      ]
     },
     "execution_count": 11,
     "metadata": {},
     "output_type": "execute_result"
    }
   ],
   "source": [
    "#let extract all tags having production_description\n",
    "for i in production_tag:\n",
    "    production=i.text\n",
    "    production_description.append(production)\n",
    "production_description[0:6]"
   ]
  },
  {
   "cell_type": "code",
   "execution_count": 12,
   "metadata": {},
   "outputs": [
    {
     "data": {
      "text/plain": [
       "[<selenium.webdriver.remote.webelement.WebElement (session=\"19c02f021c6ff3ce2b7b5e090bd0a780\", element=\"ea9cd4b4-ae90-40eb-8b71-c01a09a54653\")>,\n",
       " <selenium.webdriver.remote.webelement.WebElement (session=\"19c02f021c6ff3ce2b7b5e090bd0a780\", element=\"e40da14e-feb8-487a-ae9c-08ab46e965a1\")>,\n",
       " <selenium.webdriver.remote.webelement.WebElement (session=\"19c02f021c6ff3ce2b7b5e090bd0a780\", element=\"ce23b878-7664-48fa-98ab-7141d6a0af9a\")>,\n",
       " <selenium.webdriver.remote.webelement.WebElement (session=\"19c02f021c6ff3ce2b7b5e090bd0a780\", element=\"d4394243-1665-4e3e-95a7-715090895c6a\")>]"
      ]
     },
     "execution_count": 12,
     "metadata": {},
     "output_type": "execute_result"
    }
   ],
   "source": [
    "# let extract all the tags having the price-description\n",
    "price_tag= driver.find_elements_by_xpath(\"//span[@class='product-discountedPrice']\")\n",
    "price_tag[0:4]"
   ]
  },
  {
   "cell_type": "code",
   "execution_count": 13,
   "metadata": {},
   "outputs": [
    {
     "data": {
      "text/plain": [
       "['Rs. 6999', 'Rs. 6099', 'Rs. 8199', 'Rs. 7999', 'Rs. 8999', 'Rs. 6599']"
      ]
     },
     "execution_count": 13,
     "metadata": {},
     "output_type": "execute_result"
    }
   ],
   "source": [
    "#let extract all tags having price_description\n",
    "for i in price_tag:\n",
    "    price=i.text\n",
    "    price_brand.append(price)\n",
    "price_brand[0:6]"
   ]
  },
  {
   "cell_type": "code",
   "execution_count": 14,
   "metadata": {},
   "outputs": [
    {
     "name": "stdout",
     "output_type": "stream",
     "text": [
      "16 25 9\n"
     ]
    }
   ],
   "source": [
    "print(len(brand),\n",
    "      len(production),\n",
    "      len(price))"
   ]
  },
  {
   "cell_type": "code",
   "execution_count": 16,
   "metadata": {},
   "outputs": [
    {
     "data": {
      "text/html": [
       "<div>\n",
       "<style scoped>\n",
       "    .dataframe tbody tr th:only-of-type {\n",
       "        vertical-align: middle;\n",
       "    }\n",
       "\n",
       "    .dataframe tbody tr th {\n",
       "        vertical-align: top;\n",
       "    }\n",
       "\n",
       "    .dataframe thead th {\n",
       "        text-align: right;\n",
       "    }\n",
       "</style>\n",
       "<table border=\"1\" class=\"dataframe\">\n",
       "  <thead>\n",
       "    <tr style=\"text-align: right;\">\n",
       "      <th></th>\n",
       "      <th>brand</th>\n",
       "      <th>production</th>\n",
       "      <th>price</th>\n",
       "    </tr>\n",
       "  </thead>\n",
       "  <tbody>\n",
       "    <tr>\n",
       "      <th>0</th>\n",
       "      <td>Nike</td>\n",
       "      <td>Men Solid SKYVE MAX Sneakers</td>\n",
       "      <td>Rs. 6999</td>\n",
       "    </tr>\n",
       "    <tr>\n",
       "      <th>1</th>\n",
       "      <td>Nike</td>\n",
       "      <td>Men CHALLENGER OG Sneakers</td>\n",
       "      <td>Rs. 6099</td>\n",
       "    </tr>\n",
       "    <tr>\n",
       "      <th>2</th>\n",
       "      <td>Nike</td>\n",
       "      <td>Men JORDAN DELTA Sneakers</td>\n",
       "      <td>Rs. 8199</td>\n",
       "    </tr>\n",
       "    <tr>\n",
       "      <th>3</th>\n",
       "      <td>Nike</td>\n",
       "      <td>Men AIR MAX 90 Sneakers</td>\n",
       "      <td>Rs. 7999</td>\n",
       "    </tr>\n",
       "    <tr>\n",
       "      <th>4</th>\n",
       "      <td>Geox</td>\n",
       "      <td>Leather Mid-Top Chelsea Boots</td>\n",
       "      <td>Rs. 8999</td>\n",
       "    </tr>\n",
       "    <tr>\n",
       "      <th>5</th>\n",
       "      <td>Geox</td>\n",
       "      <td>Men Solid Leather Sneakers</td>\n",
       "      <td>Rs. 6599</td>\n",
       "    </tr>\n",
       "    <tr>\n",
       "      <th>6</th>\n",
       "      <td>ADIDAS Originals</td>\n",
       "      <td>Men Superstar Sneakers</td>\n",
       "      <td>Rs. 8799</td>\n",
       "    </tr>\n",
       "    <tr>\n",
       "      <th>7</th>\n",
       "      <td>ALDO</td>\n",
       "      <td>Men Leather Loafers</td>\n",
       "      <td>Rs. 6499</td>\n",
       "    </tr>\n",
       "    <tr>\n",
       "      <th>8</th>\n",
       "      <td>Kenneth Cole</td>\n",
       "      <td>Men Textured Sneakers</td>\n",
       "      <td>Rs. 6013</td>\n",
       "    </tr>\n",
       "    <tr>\n",
       "      <th>9</th>\n",
       "      <td>ADIDAS Originals</td>\n",
       "      <td>Men NMD R1 Sneakers</td>\n",
       "      <td>Rs. 10399</td>\n",
       "    </tr>\n",
       "  </tbody>\n",
       "</table>\n",
       "</div>"
      ],
      "text/plain": [
       "              brand                     production      price\n",
       "0              Nike   Men Solid SKYVE MAX Sneakers   Rs. 6999\n",
       "1              Nike     Men CHALLENGER OG Sneakers   Rs. 6099\n",
       "2              Nike      Men JORDAN DELTA Sneakers   Rs. 8199\n",
       "3              Nike        Men AIR MAX 90 Sneakers   Rs. 7999\n",
       "4              Geox  Leather Mid-Top Chelsea Boots   Rs. 8999\n",
       "5              Geox     Men Solid Leather Sneakers   Rs. 6599\n",
       "6  ADIDAS Originals         Men Superstar Sneakers   Rs. 8799\n",
       "7              ALDO            Men Leather Loafers   Rs. 6499\n",
       "8      Kenneth Cole          Men Textured Sneakers   Rs. 6013\n",
       "9  ADIDAS Originals            Men NMD R1 Sneakers  Rs. 10399"
      ]
     },
     "execution_count": 16,
     "metadata": {},
     "output_type": "execute_result"
    }
   ],
   "source": [
    "shoes=pd.DataFrame({})\n",
    "shoes['brand']=brand_name[0:10]\n",
    "shoes['production']=production_description[0:10]\n",
    "shoes['price']=price_brand[0:10]\n",
    "shoes"
   ]
  },
  {
   "cell_type": "code",
   "execution_count": null,
   "metadata": {},
   "outputs": [],
   "source": []
  }
 ],
 "metadata": {
  "kernelspec": {
   "display_name": "Python 3",
   "language": "python",
   "name": "python3"
  },
  "language_info": {
   "codemirror_mode": {
    "name": "ipython",
    "version": 3
   },
   "file_extension": ".py",
   "mimetype": "text/x-python",
   "name": "python",
   "nbconvert_exporter": "python",
   "pygments_lexer": "ipython3",
   "version": "3.8.5"
  }
 },
 "nbformat": 4,
 "nbformat_minor": 4
}
